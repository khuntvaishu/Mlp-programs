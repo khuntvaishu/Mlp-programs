{
 "cells": [
  {
   "cell_type": "code",
   "execution_count": 35,
   "id": "bfd53421",
   "metadata": {},
   "outputs": [],
   "source": [
    "import numpy as np\n",
    "import pandas as pd\n",
    "import matplotlib.pyplot as plt"
   ]
  },
  {
   "cell_type": "code",
   "execution_count": 36,
   "id": "1da6c7c6",
   "metadata": {},
   "outputs": [
    {
     "name": "stdout",
     "output_type": "stream",
     "text": [
      "[1 2 3 4] [5 6 7 8]\n"
     ]
    }
   ],
   "source": [
    "a=np.array([[1,2,3,4],[5,6,7,8],[8,1,6,3]])\n",
    "print(a[0],a[1])\n",
    "\n"
   ]
  },
  {
   "cell_type": "code",
   "execution_count": 37,
   "id": "71fe684a",
   "metadata": {},
   "outputs": [
    {
     "data": {
      "text/plain": [
       "array([0., 0.])"
      ]
     },
     "execution_count": 37,
     "metadata": {},
     "output_type": "execute_result"
    }
   ],
   "source": [
    "np.zeros(2)"
   ]
  },
  {
   "cell_type": "code",
   "execution_count": 38,
   "id": "0243cc97",
   "metadata": {},
   "outputs": [
    {
     "data": {
      "text/plain": [
       "array([1., 1.])"
      ]
     },
     "execution_count": 38,
     "metadata": {},
     "output_type": "execute_result"
    }
   ],
   "source": [
    "np.ones(2)"
   ]
  },
  {
   "cell_type": "code",
   "execution_count": 39,
   "id": "5b626d1a",
   "metadata": {},
   "outputs": [
    {
     "data": {
      "text/plain": [
       "array([0. , 0.5, 1. ])"
      ]
     },
     "execution_count": 39,
     "metadata": {},
     "output_type": "execute_result"
    }
   ],
   "source": [
    "np.empty(3)# Create an empty array with 2 elements"
   ]
  },
  {
   "cell_type": "code",
   "execution_count": 40,
   "id": "6a8c6167",
   "metadata": {},
   "outputs": [
    {
     "data": {
      "text/plain": [
       "array([[0., 0., 0., 0.],\n",
       "       [0., 0., 0., 0.],\n",
       "       [0., 0., 0., 0.],\n",
       "       [0., 0., 0., 0.]])"
      ]
     },
     "execution_count": 40,
     "metadata": {},
     "output_type": "execute_result"
    }
   ],
   "source": [
    "np.zeros((4,4)) #creates 4by4 matrix\n"
   ]
  },
  {
   "cell_type": "code",
   "execution_count": 41,
   "id": "ca13ffd8",
   "metadata": {},
   "outputs": [
    {
     "data": {
      "text/plain": [
       "array([1, 2, 3, 4])"
      ]
     },
     "execution_count": 41,
     "metadata": {},
     "output_type": "execute_result"
    }
   ],
   "source": [
    "np.arange(1,5,1) # create array withnp.arrange(first number,lastNumber,stepsize)   \n",
    "                     #step size means distance wich is 1 "
   ]
  },
  {
   "cell_type": "code",
   "execution_count": 42,
   "id": "23cd1c1b",
   "metadata": {},
   "outputs": [
    {
     "data": {
      "text/plain": [
       "array([1.        , 1.16666667, 1.33333333, 1.5       , 1.66666667,\n",
       "       1.83333333, 2.        ])"
      ]
     },
     "execution_count": 42,
     "metadata": {},
     "output_type": "execute_result"
    }
   ],
   "source": [
    "np.linspace(1,2,7) # create an array with values that are spaced linearly(fist,last,specified)"
   ]
  },
  {
   "cell_type": "code",
   "execution_count": 43,
   "id": "2a48dee1",
   "metadata": {},
   "outputs": [
    {
     "data": {
      "text/plain": [
       "array([[0.36788598, 0.12966482, 0.06723463, 0.33526765, 0.9267831 ]])"
      ]
     },
     "execution_count": 43,
     "metadata": {},
     "output_type": "execute_result"
    }
   ],
   "source": [
    "np.random.random((1,5))#returns a random float number between 0 and 1"
   ]
  },
  {
   "cell_type": "code",
   "execution_count": 44,
   "id": "f03f1e7f",
   "metadata": {},
   "outputs": [
    {
     "name": "stdout",
     "output_type": "stream",
     "text": [
      "array a:int32\n"
     ]
    }
   ],
   "source": [
    "print(f\"array a:{a.dtype}\")# datatype of array"
   ]
  },
  {
   "cell_type": "code",
   "execution_count": 45,
   "id": "4bcfc0ac",
   "metadata": {},
   "outputs": [
    {
     "name": "stdout",
     "output_type": "stream",
     "text": [
      "ndim: 2\n"
     ]
    }
   ],
   "source": [
    "print(f\"ndim: {a.ndim}\") # ndarray.ndim will tell you the number of axes, or dimensions, of the array."
   ]
  },
  {
   "cell_type": "code",
   "execution_count": 46,
   "id": "ede55193",
   "metadata": {},
   "outputs": [
    {
     "name": "stdout",
     "output_type": "stream",
     "text": [
      "size: 12\n"
     ]
    }
   ],
   "source": [
    "print(f\"size: {a.size}\") # 3rows 4columns(3,4) / multiplication 12"
   ]
  },
  {
   "cell_type": "code",
   "execution_count": 47,
   "id": "e3cddeb9",
   "metadata": {},
   "outputs": [
    {
     "name": "stdout",
     "output_type": "stream",
     "text": [
      "shape: (3, 4)\n"
     ]
    }
   ],
   "source": [
    "print(f\"shape: {a.shape}\") # (rows,columns)=(3,4)"
   ]
  },
  {
   "cell_type": "code",
   "execution_count": 48,
   "id": "ff54bbbc",
   "metadata": {},
   "outputs": [
    {
     "name": "stdout",
     "output_type": "stream",
     "text": [
      "datatype: int32\n"
     ]
    }
   ],
   "source": [
    "print(f\"datatype: {a.dtype}\")"
   ]
  },
  {
   "cell_type": "code",
   "execution_count": 49,
   "id": "64274b92",
   "metadata": {},
   "outputs": [
    {
     "name": "stdout",
     "output_type": "stream",
     "text": [
      "itemsize: 4\n"
     ]
    }
   ],
   "source": [
    "print(f\"itemsize: {a.itemsize}\") # individual size"
   ]
  },
  {
   "cell_type": "code",
   "execution_count": 50,
   "id": "5992ae5e",
   "metadata": {},
   "outputs": [],
   "source": [
    "data = np.array([1, 2, 3])"
   ]
  },
  {
   "cell_type": "code",
   "execution_count": 51,
   "id": "1e1c88bc",
   "metadata": {},
   "outputs": [
    {
     "data": {
      "text/plain": [
       "2"
      ]
     },
     "execution_count": 51,
     "metadata": {},
     "output_type": "execute_result"
    }
   ],
   "source": [
    "data[1]"
   ]
  },
  {
   "cell_type": "code",
   "execution_count": 52,
   "id": "7a91a79c",
   "metadata": {},
   "outputs": [
    {
     "data": {
      "text/plain": [
       "array([1, 2])"
      ]
     },
     "execution_count": 52,
     "metadata": {},
     "output_type": "execute_result"
    }
   ],
   "source": [
    "data[0:2]"
   ]
  },
  {
   "cell_type": "code",
   "execution_count": 53,
   "id": "e545394f",
   "metadata": {},
   "outputs": [
    {
     "data": {
      "text/plain": [
       "array([2, 3])"
      ]
     },
     "execution_count": 53,
     "metadata": {},
     "output_type": "execute_result"
    }
   ],
   "source": [
    "data[1:]"
   ]
  },
  {
   "cell_type": "code",
   "execution_count": 54,
   "id": "dd506f78",
   "metadata": {},
   "outputs": [
    {
     "data": {
      "text/plain": [
       "array([2, 3])"
      ]
     },
     "execution_count": 54,
     "metadata": {},
     "output_type": "execute_result"
    }
   ],
   "source": [
    "data[-2:]"
   ]
  },
  {
   "cell_type": "code",
   "execution_count": 58,
   "id": "82e9702a",
   "metadata": {},
   "outputs": [],
   "source": [
    "b=np.array([[1,2,3,4],[4,5,6,7],[11,12,5,6]])"
   ]
  },
  {
   "cell_type": "code",
   "execution_count": 59,
   "id": "c399ea69",
   "metadata": {},
   "outputs": [
    {
     "data": {
      "text/plain": [
       "array([[ 2,  4,  6,  8],\n",
       "       [ 9, 11, 13, 15],\n",
       "       [19, 13, 11,  9]])"
      ]
     },
     "execution_count": 59,
     "metadata": {},
     "output_type": "execute_result"
    }
   ],
   "source": [
    "np.add(a,b) "
   ]
  },
  {
   "cell_type": "code",
   "execution_count": 62,
   "id": "d34b3cd7",
   "metadata": {},
   "outputs": [
    {
     "data": {
      "text/plain": [
       "array([[  0,   0,   0,   0],\n",
       "       [  1,   1,   1,   1],\n",
       "       [ -3, -11,   1,  -3]])"
      ]
     },
     "execution_count": 62,
     "metadata": {},
     "output_type": "execute_result"
    }
   ],
   "source": [
    "np.subtract(a,b)"
   ]
  },
  {
   "cell_type": "code",
   "execution_count": 63,
   "id": "466c4125",
   "metadata": {},
   "outputs": [
    {
     "data": {
      "text/plain": [
       "array([[1.        , 1.        , 1.        , 1.        ],\n",
       "       [1.25      , 1.2       , 1.16666667, 1.14285714],\n",
       "       [0.72727273, 0.08333333, 1.2       , 0.5       ]])"
      ]
     },
     "execution_count": 63,
     "metadata": {},
     "output_type": "execute_result"
    }
   ],
   "source": [
    "np.divide(a,b)"
   ]
  },
  {
   "cell_type": "code",
   "execution_count": 64,
   "id": "e064587e",
   "metadata": {},
   "outputs": [
    {
     "data": {
      "text/plain": [
       "array([[0, 0, 0, 0],\n",
       "       [1, 1, 1, 1],\n",
       "       [8, 1, 1, 3]])"
      ]
     },
     "execution_count": 64,
     "metadata": {},
     "output_type": "execute_result"
    }
   ],
   "source": [
    "np.mod(a,b)"
   ]
  },
  {
   "cell_type": "code",
   "execution_count": 65,
   "id": "0fe86cce",
   "metadata": {},
   "outputs": [
    {
     "data": {
      "text/plain": [
       "array([[ 1,  4,  9, 16],\n",
       "       [20, 30, 42, 56],\n",
       "       [88, 12, 30, 18]])"
      ]
     },
     "execution_count": 65,
     "metadata": {},
     "output_type": "execute_result"
    }
   ],
   "source": [
    "np.multiply(a,b)"
   ]
  },
  {
   "cell_type": "code",
   "execution_count": 67,
   "id": "5014d36b",
   "metadata": {},
   "outputs": [
    {
     "data": {
      "text/plain": [
       "array([[      1,       4,      27,     256],\n",
       "       [    625,    7776,  117649, 2097152],\n",
       "       [      0,       1,    7776,     729]])"
      ]
     },
     "execution_count": 67,
     "metadata": {},
     "output_type": "execute_result"
    }
   ],
   "source": [
    "np.power(a,b)"
   ]
  },
  {
   "cell_type": "code",
   "execution_count": 68,
   "id": "b75748f8",
   "metadata": {},
   "outputs": [
    {
     "data": {
      "text/plain": [
       "array([[1, 2, 3, 4],\n",
       "       [5, 6, 7, 8],\n",
       "       [8, 1, 6, 3]])"
      ]
     },
     "execution_count": 68,
     "metadata": {},
     "output_type": "execute_result"
    }
   ],
   "source": [
    "np.abs(a,b) #absolute value"
   ]
  },
  {
   "cell_type": "code",
   "execution_count": 69,
   "id": "9f6b198b",
   "metadata": {},
   "outputs": [
    {
     "data": {
      "text/plain": [
       "array([[0, 0, 0, 0],\n",
       "       [0, 0, 0, 0],\n",
       "       [0, 0, 0, 0]])"
      ]
     },
     "execution_count": 69,
     "metadata": {},
     "output_type": "execute_result"
    }
   ],
   "source": [
    "np.remainder(a,b)"
   ]
  },
  {
   "cell_type": "code",
   "execution_count": 70,
   "id": "a328f5d6",
   "metadata": {},
   "outputs": [
    {
     "name": "stdout",
     "output_type": "stream",
     "text": [
      "['vaishu' 'vishva' 'krishi' 'khushi']\n",
      "size:12\n",
      "shape:(3, 4)\n",
      "dtype:int32\n",
      "itemsize:4\n"
     ]
    }
   ],
   "source": [
    "s=np.array([\"vaishu\",\"vishva\",\"krishi\",\"khushi\"])\n",
    "print(s)\n",
    "print(f\"size:{a.size}\")\n",
    "print(f\"shape:{a.shape}\")\n",
    "print(f\"dtype:{a.dtype}\")\n",
    "print(f\"itemsize:{a.itemsize}\")"
   ]
  },
  {
   "cell_type": "code",
   "execution_count": 71,
   "id": "c4aac04e",
   "metadata": {},
   "outputs": [
    {
     "data": {
      "text/plain": [
       "array([[1, 2, 3, 4],\n",
       "       [5, 6, 7, 8],\n",
       "       [8, 1, 6, 3],\n",
       "       [1, 2, 3, 4],\n",
       "       [5, 6, 7, 8],\n",
       "       [8, 1, 6, 3]])"
      ]
     },
     "execution_count": 71,
     "metadata": {},
     "output_type": "execute_result"
    }
   ],
   "source": [
    "np.vstack((a, b)) #stack them vertically"
   ]
  },
  {
   "cell_type": "code",
   "execution_count": 72,
   "id": "f4d5d1d4",
   "metadata": {},
   "outputs": [
    {
     "data": {
      "text/plain": [
       "array([[1, 2, 3, 4, 1, 2, 3, 4],\n",
       "       [5, 6, 7, 8, 5, 6, 7, 8],\n",
       "       [8, 1, 6, 3, 8, 1, 6, 3]])"
      ]
     },
     "execution_count": 72,
     "metadata": {},
     "output_type": "execute_result"
    }
   ],
   "source": [
    "np.hstack((a,b))# stack horizontally"
   ]
  },
  {
   "cell_type": "code",
   "execution_count": 77,
   "id": "1be63b04",
   "metadata": {},
   "outputs": [
    {
     "name": "stdout",
     "output_type": "stream",
     "text": [
      "[[ 1  2  3  4  5  6  7  8  9 10 11 12]\n",
      " [13 14 15 16 17 18 19 20 21 22 23 24]]\n"
     ]
    }
   ],
   "source": [
    "x = np.arange(1, 25).reshape(2, 12)\n",
    "print(x)"
   ]
  },
  {
   "cell_type": "code",
   "execution_count": 78,
   "id": "4f00643a",
   "metadata": {},
   "outputs": [
    {
     "data": {
      "text/plain": [
       "[array([[ 1,  2,  3,  4],\n",
       "        [13, 14, 15, 16]]),\n",
       " array([[ 5,  6,  7,  8],\n",
       "        [17, 18, 19, 20]]),\n",
       " array([[ 9, 10, 11, 12],\n",
       "        [21, 22, 23, 24]])]"
      ]
     },
     "execution_count": 78,
     "metadata": {},
     "output_type": "execute_result"
    }
   ],
   "source": [
    "np.hsplit(x,3) # can split above array in 3 equal array"
   ]
  },
  {
   "cell_type": "code",
   "execution_count": 79,
   "id": "95218e86",
   "metadata": {},
   "outputs": [
    {
     "data": {
      "text/plain": [
       "[array([[ 1,  2,  3],\n",
       "        [13, 14, 15]]),\n",
       " array([[ 4],\n",
       "        [16]]),\n",
       " array([[ 5,  6,  7,  8,  9, 10, 11, 12],\n",
       "        [17, 18, 19, 20, 21, 22, 23, 24]])]"
      ]
     },
     "execution_count": 79,
     "metadata": {},
     "output_type": "execute_result"
    }
   ],
   "source": [
    "np.hsplit(x,(3,4))#split your array after the third and fourth column"
   ]
  },
  {
   "cell_type": "code",
   "execution_count": 80,
   "id": "3e465936",
   "metadata": {},
   "outputs": [
    {
     "data": {
      "text/plain": [
       "8"
      ]
     },
     "execution_count": 80,
     "metadata": {},
     "output_type": "execute_result"
    }
   ],
   "source": [
    "a.max()"
   ]
  },
  {
   "cell_type": "code",
   "execution_count": 81,
   "id": "e71bfa27",
   "metadata": {},
   "outputs": [
    {
     "data": {
      "text/plain": [
       "1"
      ]
     },
     "execution_count": 81,
     "metadata": {},
     "output_type": "execute_result"
    }
   ],
   "source": [
    "a.min()"
   ]
  },
  {
   "cell_type": "code",
   "execution_count": 82,
   "id": "d8af02a4",
   "metadata": {},
   "outputs": [
    {
     "data": {
      "text/plain": [
       "54"
      ]
     },
     "execution_count": 82,
     "metadata": {},
     "output_type": "execute_result"
    }
   ],
   "source": [
    "a.sum()"
   ]
  },
  {
   "cell_type": "code",
   "execution_count": 83,
   "id": "46a9e295",
   "metadata": {},
   "outputs": [
    {
     "name": "stdout",
     "output_type": "stream",
     "text": [
      "initial array [[1 2 3 4]\n",
      " [5 6 7 8]\n",
      " [8 1 6 3]]\n"
     ]
    }
   ],
   "source": [
    "print(\"initial array\",a)"
   ]
  },
  {
   "cell_type": "code",
   "execution_count": 85,
   "id": "b05397aa",
   "metadata": {},
   "outputs": [
    {
     "name": "stdout",
     "output_type": "stream",
     "text": [
      "sliced [[2 3 4]]\n"
     ]
    }
   ],
   "source": [
    "sliced=a[:1:,1:]\n",
    "print(\"sliced\",sliced)"
   ]
  },
  {
   "cell_type": "code",
   "execution_count": 86,
   "id": "bfbacbf5",
   "metadata": {},
   "outputs": [
    {
     "data": {
      "text/plain": [
       "array([1, 2, 3, 4, 5, 6, 7, 8])"
      ]
     },
     "execution_count": 86,
     "metadata": {},
     "output_type": "execute_result"
    }
   ],
   "source": [
    "np.unique(a)"
   ]
  },
  {
   "cell_type": "code",
   "execution_count": 87,
   "id": "1818af5d",
   "metadata": {},
   "outputs": [
    {
     "name": "stdout",
     "output_type": "stream",
     "text": [
      "indexed [2 6]\n"
     ]
    }
   ],
   "source": [
    "indexed=a[[0,1],[1,1]]\n",
    "print(\"indexed\",indexed)"
   ]
  },
  {
   "cell_type": "code",
   "execution_count": 88,
   "id": "55492660",
   "metadata": {},
   "outputs": [
    {
     "name": "stdout",
     "output_type": "stream",
     "text": [
      "[[1 2 3 4]\n",
      " [5 6 7 8]\n",
      " [8 1 6 3]]\n"
     ]
    }
   ],
   "source": [
    "print(a)"
   ]
  },
  {
   "cell_type": "code",
   "execution_count": 89,
   "id": "e0011a33",
   "metadata": {},
   "outputs": [
    {
     "name": "stdout",
     "output_type": "stream",
     "text": [
      "sum 54\n"
     ]
    }
   ],
   "source": [
    "print(\"sum\",a.sum())"
   ]
  },
  {
   "cell_type": "code",
   "execution_count": 90,
   "id": "d1881505",
   "metadata": {},
   "outputs": [
    {
     "name": "stdout",
     "output_type": "stream",
     "text": [
      "sqrt [[1.         1.41421356 1.73205081 2.        ]\n",
      " [2.23606798 2.44948974 2.64575131 2.82842712]\n",
      " [2.82842712 1.         2.44948974 1.73205081]]\n"
     ]
    }
   ],
   "source": [
    "print(\"sqrt\",np.sqrt(a))"
   ]
  },
  {
   "cell_type": "code",
   "execution_count": 92,
   "id": "8f77156b",
   "metadata": {},
   "outputs": [
    {
     "name": "stdout",
     "output_type": "stream",
     "text": [
      "add element in array [[11 12 13 14]\n",
      " [15 16 17 18]\n",
      " [18 11 16 13]]\n"
     ]
    }
   ],
   "source": [
    "print(\"add element in array\",a+10)\n"
   ]
  },
  {
   "cell_type": "code",
   "execution_count": 93,
   "id": "81cc0aed",
   "metadata": {},
   "outputs": [],
   "source": [
    "matrix1=np.array([[1,2,3],[4,5,6],[7,8,9]])\n",
    "matrix2=np.array([[4,5,6],[1,2,3],[7,8,9]])\n",
    "\n",
    "matrix3=np.dot(matrix1,matrix2)"
   ]
  },
  {
   "cell_type": "code",
   "execution_count": 94,
   "id": "be5e10c5",
   "metadata": {},
   "outputs": [
    {
     "name": "stdout",
     "output_type": "stream",
     "text": [
      "[[ 27  33  39]\n",
      " [ 63  78  93]\n",
      " [ 99 123 147]]\n"
     ]
    }
   ],
   "source": [
    "print(matrix3)"
   ]
  },
  {
   "cell_type": "code",
   "execution_count": 95,
   "id": "dd505b3e",
   "metadata": {},
   "outputs": [
    {
     "name": "stdout",
     "output_type": "stream",
     "text": [
      "matrix pumtiplication [[ 27  33  39]\n",
      " [ 63  78  93]\n",
      " [ 99 123 147]]\n"
     ]
    }
   ],
   "source": [
    "print(\"matrix pumtiplication\",matrix3)#matrix multiplication"
   ]
  },
  {
   "cell_type": "code",
   "execution_count": 96,
   "id": "3b46a223",
   "metadata": {},
   "outputs": [
    {
     "name": "stdout",
     "output_type": "stream",
     "text": [
      "transpose [[1 4 7]\n",
      " [2 5 8]\n",
      " [3 6 9]]\n"
     ]
    }
   ],
   "source": [
    "print(\"transpose\",format(matrix1.T))#if matrix(rows,columns)(3,4)the its transpose is (4,3)\n",
    "                                    "
   ]
  },
  {
   "cell_type": "code",
   "execution_count": 97,
   "id": "0469b9db",
   "metadata": {},
   "outputs": [
    {
     "name": "stdout",
     "output_type": "stream",
     "text": [
      "mathamatical functions\n",
      "sqrt [1.         1.41421356 1.73205081]\n",
      "exp [ 2.71828183  7.3890561  20.08553692]\n",
      "sin [0.84147098 0.90929743 0.14112001]\n",
      "cos [ 0.54030231 -0.41614684 -0.9899925 ]\n",
      "log [0.         0.69314718 1.09861229]\n",
      "sum 6\n",
      "std 0.816496580927726\n",
      "\n",
      "\n"
     ]
    }
   ],
   "source": [
    "print(\"mathamatical functions\")\n",
    "ar=np.array([1,2,3])\n",
    "print(\"sqrt\",np.sqrt(ar))\n",
    "print(\"exp\",np.exp(ar))\n",
    "print(\"sin\",np.sin(ar))\n",
    "print(\"cos\",np.cos(ar))\n",
    "print(\"log\",np.log(ar))\n",
    "print(\"sum\",np.sum(ar))\n",
    "print(\"std\",np.std(ar))\n",
    "print(\"\\n\")"
   ]
  },
  {
   "cell_type": "code",
   "execution_count": 98,
   "id": "a06cb98d",
   "metadata": {},
   "outputs": [
    {
     "name": "stdout",
     "output_type": "stream",
     "text": [
      "random [0.54228253 0.39354443 0.94126824 0.38473899 0.4735798  0.96049817\n",
      " 0.44108355 0.38990638 0.16536884 0.81040723 0.64052157 0.273266\n",
      " 0.80036327 0.77936355 0.58191155 0.07871643 0.31579503 0.40474414\n",
      " 0.96274532 0.81680815]\n"
     ]
    }
   ],
   "source": [
    "print(\"random\",np.random.random(20))"
   ]
  },
  {
   "cell_type": "code",
   "execution_count": 99,
   "id": "ec153013",
   "metadata": {},
   "outputs": [
    {
     "name": "stdout",
     "output_type": "stream",
     "text": [
      "rand [[0.3794098  0.66446599 0.45167393 0.71540223]\n",
      " [0.84261551 0.01888454 0.92763188 0.98894393]\n",
      " [0.51448216 0.95378954 0.14516309 0.01608251]]\n"
     ]
    }
   ],
   "source": [
    "print(\"rand\",np.random.rand(3,4))"
   ]
  },
  {
   "cell_type": "code",
   "execution_count": 100,
   "id": "8c614522",
   "metadata": {},
   "outputs": [
    {
     "name": "stdout",
     "output_type": "stream",
     "text": [
      "randint [81 70 93 62 74 83  0 47 94 80 91 81 75 92 58 14 67 18  0 83]\n"
     ]
    }
   ],
   "source": [
    "print(\"randint\",np.random.randint(0,100,20))"
   ]
  },
  {
   "cell_type": "code",
   "execution_count": 101,
   "id": "ed15b9a6",
   "metadata": {},
   "outputs": [
    {
     "name": "stdout",
     "output_type": "stream",
     "text": [
      "permutation [ 0  9 14 19 15  5 12 10 16  6  7  8 17 11 13 18  2  4  1  3]\n"
     ]
    }
   ],
   "source": [
    "print(\"permutation\",np.random.permutation(np.arange(20)))"
   ]
  },
  {
   "cell_type": "code",
   "execution_count": 102,
   "id": "6a6f7181",
   "metadata": {},
   "outputs": [
    {
     "name": "stdout",
     "output_type": "stream",
     "text": [
      "[[3 6 1 8]\n",
      " [8 7 6 5]\n",
      " [4 3 2 1]]\n"
     ]
    }
   ],
   "source": [
    "reversed_arr = np.flip(a)\n",
    "print(reversed_arr)"
   ]
  },
  {
   "cell_type": "code",
   "execution_count": null,
   "id": "780d6412",
   "metadata": {},
   "outputs": [],
   "source": []
  }
 ],
 "metadata": {
  "kernelspec": {
   "display_name": "Python 3 (ipykernel)",
   "language": "python",
   "name": "python3"
  },
  "language_info": {
   "codemirror_mode": {
    "name": "ipython",
    "version": 3
   },
   "file_extension": ".py",
   "mimetype": "text/x-python",
   "name": "python",
   "nbconvert_exporter": "python",
   "pygments_lexer": "ipython3",
   "version": "3.11.5"
  }
 },
 "nbformat": 4,
 "nbformat_minor": 5
}
